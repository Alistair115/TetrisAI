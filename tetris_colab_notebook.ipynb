{
 "cells": [
  {
   "cell_type": "markdown",
   "metadata": {},
   "source": [
    "# Tetris Gym on Colab\n",
    "This notebook sets up the environment and runs training on a free GPU in Google Colab."
   ]
  },
  {
   "cell_type": "code",
   "metadata": {},
   "source": [
    "!pip install -q pygame gymnasium numpy stable-baselines3 sb3-contrib tensorboard pyyaml"
   ],
   "execution_count": null,
   "outputs": []
  },
  {
    "cell_type": "code",
    "metadata": {},
    "source": [
      "# Clone your cleaned repo and cd into it",
      "!git clone https://github.com/Alistair115/TetrisAI.git",
      "%cd TetrisAI"
    ],
    "execution_count": null,
    "outputs": []
  },
  {
   "cell_type": "code",
   "metadata": {},
   "source": [
    "!python train/train.py"
   ],
   "execution_count": null,
   "outputs": []
  }
 ],
 "metadata": {
  "kernelspec": {
   "display_name": "Python 3",
   "language": "python",
   "name": "python3"
  },
  "language_info": {
   "name": "python",
   "version": "3.x"
  }
 },
 "nbformat": 4,
 "nbformat_minor": 5
}
